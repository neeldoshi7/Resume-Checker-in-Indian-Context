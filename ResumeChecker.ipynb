{
  "nbformat": 4,
  "nbformat_minor": 0,
  "metadata": {
    "colab": {
      "name": "ResumeChecker.ipynb",
      "provenance": [],
      "collapsed_sections": [],
      "toc_visible": true
    },
    "kernelspec": {
      "name": "python3",
      "display_name": "Python 3"
    }
  },
  "cells": [
    {
      "cell_type": "markdown",
      "metadata": {
        "id": "nKqPtVynwgRV",
        "colab_type": "text"
      },
      "source": [
        "Extracting text from PDF"
      ]
    },
    {
      "cell_type": "code",
      "metadata": {
        "id": "vzU67Bcy1xDC",
        "colab_type": "code",
        "outputId": "8abf6339-899b-4b92-bde4-cf10e2fbf38b",
        "colab": {
          "base_uri": "https://localhost:8080/",
          "height": 122
        }
      },
      "source": [
        "!pip install pymupdf"
      ],
      "execution_count": 0,
      "outputs": [
        {
          "output_type": "stream",
          "text": [
            "Collecting pymupdf\n",
            "\u001b[?25l  Downloading https://files.pythonhosted.org/packages/41/8b/4de031221b20cd8a9f69543c80084b34d23df277ec3263addeaeb5a1200e/PyMuPDF-1.17.0-cp36-cp36m-manylinux2010_x86_64.whl (6.0MB)\n",
            "\u001b[K     |████████████████████████████████| 6.0MB 67kB/s \n",
            "\u001b[?25hInstalling collected packages: pymupdf\n",
            "Successfully installed pymupdf-1.17.0\n"
          ],
          "name": "stdout"
        }
      ]
    },
    {
      "cell_type": "code",
      "metadata": {
        "id": "ynz00Xzu2YJB",
        "colab_type": "code",
        "colab": {}
      },
      "source": [
        "import fitz"
      ],
      "execution_count": 0,
      "outputs": []
    },
    {
      "cell_type": "code",
      "metadata": {
        "id": "s2IzykSB2Zgy",
        "colab_type": "code",
        "colab": {}
      },
      "source": [
        "doc = fitz.open(\"resume.pdf\") "
      ],
      "execution_count": 0,
      "outputs": []
    },
    {
      "cell_type": "code",
      "metadata": {
        "id": "iKec5trK_zCk",
        "colab_type": "code",
        "colab": {}
      },
      "source": [
        "text_file = open(\"sample.txt\", \"w\")"
      ],
      "execution_count": 0,
      "outputs": []
    },
    {
      "cell_type": "code",
      "metadata": {
        "id": "DFMdARuJ2gYI",
        "colab_type": "code",
        "outputId": "1f2de2df-2c8c-4ef0-ae31-cbc2a5918500",
        "colab": {
          "base_uri": "https://localhost:8080/",
          "height": 957
        }
      },
      "source": [
        "for page in doc:\n",
        "  textNew = page.getText(\"text\")\n",
        "  print(textNew)\n",
        "  n = text_file.write(textNew)\n",
        "text_file.close()"
      ],
      "execution_count": 0,
      "outputs": [
        {
          "output_type": "stream",
          "text": [
            "Vidhi mehta \n",
            "Mumbia, mahharashtra  \n",
            "mrabb@email.com \n",
            "SUMMARY \n",
            " \n",
            "Detail-oriented Business Anaslyt with 3 years of experience doing meticulous and \n",
            "intensive work across multiple industries. \n",
            "EDUCATION \n",
            " \n",
            "Mambia UNIVERSITY \n",
            "Aug '10 - May '14 \n",
            "Bachelor of Scince in Finance \n",
            "EXPERIENCE \n",
            " \n",
            "Dreamsoft IT Solutilns, Business Analyst \n",
            "Feb '15 - Current \n",
            "• \n",
            "Negotiate and liaise between business teams, technology teams, and support teams \n",
            "• \n",
            "Deliver cost effective, high performance technolgy solutions \n",
            "• \n",
            "Worked with users and stakeolders to analyze and validate requirements \n",
            "• \n",
            "Manage project through status meetings, weekly reports, identifying risks, and tracking \n",
            "issues \n",
            "• \n",
            "Designed, developed, and deployed business intlligence applications \n",
            "Mphsis Ltd, Business Analyst \n",
            "Current - Current \n",
            "• \n",
            "Served customers and businesses by running and viewing reports \n",
            "• \n",
            "Designed analyical solutions \n",
            "• \n",
            "Execute and validate test cases \n",
            "• \n",
            "Responsible for specifictions, implementations, and analytics \n",
            "• \n",
            "Prepared business models, flowcharts, and diagrms \n",
            "SKILLS \n",
            " \n",
            "• \n",
            "Requirement Gathering \n",
            "\n",
            "• \n",
            "Finncial Statement Analsis \n",
            "• \n",
            "Finncial Modeling, Planning, and Forecasting \n",
            "• \n",
            "Requiement Management Tools including Rational RequisitePro and Caliber RM \n",
            "• \n",
            "Business Modeling Tools including MS Visio and Rational Rose \n",
            " \n",
            " \n",
            "\n"
          ],
          "name": "stdout"
        }
      ]
    },
    {
      "cell_type": "markdown",
      "metadata": {
        "id": "ryCDA00v__cg",
        "colab_type": "text"
      },
      "source": [
        "Custom Spell checker - use pyspellchecker"
      ]
    },
    {
      "cell_type": "code",
      "metadata": {
        "id": "QPkrJYYB_-nK",
        "colab_type": "code",
        "outputId": "bf635e0e-dcc2-4ca9-fa28-496bfc27fd59",
        "colab": {
          "base_uri": "https://localhost:8080/",
          "height": 122
        }
      },
      "source": [
        "!pip install pyspellchecker"
      ],
      "execution_count": 0,
      "outputs": [
        {
          "output_type": "stream",
          "text": [
            "Collecting pyspellchecker\n",
            "\u001b[?25l  Downloading https://files.pythonhosted.org/packages/04/d1/ec4e830e9f9c1fd788e1459dd09279fdf807bc7a475579fd7192450b879c/pyspellchecker-0.5.4-py2.py3-none-any.whl (1.9MB)\n",
            "\r\u001b[K     |▏                               | 10kB 14.3MB/s eta 0:00:01\r\u001b[K     |▍                               | 20kB 1.6MB/s eta 0:00:02\r\u001b[K     |▌                               | 30kB 1.8MB/s eta 0:00:02\r\u001b[K     |▊                               | 40kB 2.1MB/s eta 0:00:01\r\u001b[K     |▉                               | 51kB 2.0MB/s eta 0:00:01\r\u001b[K     |█                               | 61kB 2.2MB/s eta 0:00:01\r\u001b[K     |█▏                              | 71kB 2.4MB/s eta 0:00:01\r\u001b[K     |█▍                              | 81kB 2.6MB/s eta 0:00:01\r\u001b[K     |█▌                              | 92kB 2.5MB/s eta 0:00:01\r\u001b[K     |█▊                              | 102kB 2.7MB/s eta 0:00:01\r\u001b[K     |█▉                              | 112kB 2.7MB/s eta 0:00:01\r\u001b[K     |██                              | 122kB 2.7MB/s eta 0:00:01\r\u001b[K     |██▎                             | 133kB 2.7MB/s eta 0:00:01\r\u001b[K     |██▍                             | 143kB 2.7MB/s eta 0:00:01\r\u001b[K     |██▋                             | 153kB 2.7MB/s eta 0:00:01\r\u001b[K     |██▊                             | 163kB 2.7MB/s eta 0:00:01\r\u001b[K     |███                             | 174kB 2.7MB/s eta 0:00:01\r\u001b[K     |███                             | 184kB 2.7MB/s eta 0:00:01\r\u001b[K     |███▎                            | 194kB 2.7MB/s eta 0:00:01\r\u001b[K     |███▍                            | 204kB 2.7MB/s eta 0:00:01\r\u001b[K     |███▋                            | 215kB 2.7MB/s eta 0:00:01\r\u001b[K     |███▊                            | 225kB 2.7MB/s eta 0:00:01\r\u001b[K     |████                            | 235kB 2.7MB/s eta 0:00:01\r\u001b[K     |████▏                           | 245kB 2.7MB/s eta 0:00:01\r\u001b[K     |████▎                           | 256kB 2.7MB/s eta 0:00:01\r\u001b[K     |████▌                           | 266kB 2.7MB/s eta 0:00:01\r\u001b[K     |████▋                           | 276kB 2.7MB/s eta 0:00:01\r\u001b[K     |████▉                           | 286kB 2.7MB/s eta 0:00:01\r\u001b[K     |█████                           | 296kB 2.7MB/s eta 0:00:01\r\u001b[K     |█████▏                          | 307kB 2.7MB/s eta 0:00:01\r\u001b[K     |█████▎                          | 317kB 2.7MB/s eta 0:00:01\r\u001b[K     |█████▌                          | 327kB 2.7MB/s eta 0:00:01\r\u001b[K     |█████▋                          | 337kB 2.7MB/s eta 0:00:01\r\u001b[K     |█████▉                          | 348kB 2.7MB/s eta 0:00:01\r\u001b[K     |██████                          | 358kB 2.7MB/s eta 0:00:01\r\u001b[K     |██████▏                         | 368kB 2.7MB/s eta 0:00:01\r\u001b[K     |██████▍                         | 378kB 2.7MB/s eta 0:00:01\r\u001b[K     |██████▌                         | 389kB 2.7MB/s eta 0:00:01\r\u001b[K     |██████▊                         | 399kB 2.7MB/s eta 0:00:01\r\u001b[K     |██████▉                         | 409kB 2.7MB/s eta 0:00:01\r\u001b[K     |███████                         | 419kB 2.7MB/s eta 0:00:01\r\u001b[K     |███████▏                        | 430kB 2.7MB/s eta 0:00:01\r\u001b[K     |███████▍                        | 440kB 2.7MB/s eta 0:00:01\r\u001b[K     |███████▌                        | 450kB 2.7MB/s eta 0:00:01\r\u001b[K     |███████▊                        | 460kB 2.7MB/s eta 0:00:01\r\u001b[K     |████████                        | 471kB 2.7MB/s eta 0:00:01\r\u001b[K     |████████                        | 481kB 2.7MB/s eta 0:00:01\r\u001b[K     |████████▎                       | 491kB 2.7MB/s eta 0:00:01\r\u001b[K     |████████▍                       | 501kB 2.7MB/s eta 0:00:01\r\u001b[K     |████████▋                       | 512kB 2.7MB/s eta 0:00:01\r\u001b[K     |████████▊                       | 522kB 2.7MB/s eta 0:00:01\r\u001b[K     |█████████                       | 532kB 2.7MB/s eta 0:00:01\r\u001b[K     |█████████                       | 542kB 2.7MB/s eta 0:00:01\r\u001b[K     |█████████▎                      | 552kB 2.7MB/s eta 0:00:01\r\u001b[K     |█████████▍                      | 563kB 2.7MB/s eta 0:00:01\r\u001b[K     |█████████▋                      | 573kB 2.7MB/s eta 0:00:01\r\u001b[K     |█████████▉                      | 583kB 2.7MB/s eta 0:00:01\r\u001b[K     |██████████                      | 593kB 2.7MB/s eta 0:00:01\r\u001b[K     |██████████▏                     | 604kB 2.7MB/s eta 0:00:01\r\u001b[K     |██████████▎                     | 614kB 2.7MB/s eta 0:00:01\r\u001b[K     |██████████▌                     | 624kB 2.7MB/s eta 0:00:01\r\u001b[K     |██████████▋                     | 634kB 2.7MB/s eta 0:00:01\r\u001b[K     |██████████▉                     | 645kB 2.7MB/s eta 0:00:01\r\u001b[K     |███████████                     | 655kB 2.7MB/s eta 0:00:01\r\u001b[K     |███████████▏                    | 665kB 2.7MB/s eta 0:00:01\r\u001b[K     |███████████▎                    | 675kB 2.7MB/s eta 0:00:01\r\u001b[K     |███████████▌                    | 686kB 2.7MB/s eta 0:00:01\r\u001b[K     |███████████▊                    | 696kB 2.7MB/s eta 0:00:01\r\u001b[K     |███████████▉                    | 706kB 2.7MB/s eta 0:00:01\r\u001b[K     |████████████                    | 716kB 2.7MB/s eta 0:00:01\r\u001b[K     |████████████▏                   | 727kB 2.7MB/s eta 0:00:01\r\u001b[K     |████████████▍                   | 737kB 2.7MB/s eta 0:00:01\r\u001b[K     |████████████▌                   | 747kB 2.7MB/s eta 0:00:01\r\u001b[K     |████████████▊                   | 757kB 2.7MB/s eta 0:00:01\r\u001b[K     |████████████▉                   | 768kB 2.7MB/s eta 0:00:01\r\u001b[K     |█████████████                   | 778kB 2.7MB/s eta 0:00:01\r\u001b[K     |█████████████▏                  | 788kB 2.7MB/s eta 0:00:01\r\u001b[K     |█████████████▍                  | 798kB 2.7MB/s eta 0:00:01\r\u001b[K     |█████████████▋                  | 808kB 2.7MB/s eta 0:00:01\r\u001b[K     |█████████████▊                  | 819kB 2.7MB/s eta 0:00:01\r\u001b[K     |██████████████                  | 829kB 2.7MB/s eta 0:00:01\r\u001b[K     |██████████████                  | 839kB 2.7MB/s eta 0:00:01\r\u001b[K     |██████████████▎                 | 849kB 2.7MB/s eta 0:00:01\r\u001b[K     |██████████████▍                 | 860kB 2.7MB/s eta 0:00:01\r\u001b[K     |██████████████▋                 | 870kB 2.7MB/s eta 0:00:01\r\u001b[K     |██████████████▊                 | 880kB 2.7MB/s eta 0:00:01\r\u001b[K     |███████████████                 | 890kB 2.7MB/s eta 0:00:01\r\u001b[K     |███████████████                 | 901kB 2.7MB/s eta 0:00:01\r\u001b[K     |███████████████▎                | 911kB 2.7MB/s eta 0:00:01\r\u001b[K     |███████████████▌                | 921kB 2.7MB/s eta 0:00:01\r\u001b[K     |███████████████▋                | 931kB 2.7MB/s eta 0:00:01\r\u001b[K     |███████████████▉                | 942kB 2.7MB/s eta 0:00:01\r\u001b[K     |████████████████                | 952kB 2.7MB/s eta 0:00:01\r\u001b[K     |████████████████▏               | 962kB 2.7MB/s eta 0:00:01\r\u001b[K     |████████████████▎               | 972kB 2.7MB/s eta 0:00:01\r\u001b[K     |████████████████▌               | 983kB 2.7MB/s eta 0:00:01\r\u001b[K     |████████████████▋               | 993kB 2.7MB/s eta 0:00:01\r\u001b[K     |████████████████▉               | 1.0MB 2.7MB/s eta 0:00:01\r\u001b[K     |█████████████████               | 1.0MB 2.7MB/s eta 0:00:01\r\u001b[K     |█████████████████▏              | 1.0MB 2.7MB/s eta 0:00:01\r\u001b[K     |█████████████████▍              | 1.0MB 2.7MB/s eta 0:00:01\r\u001b[K     |█████████████████▌              | 1.0MB 2.7MB/s eta 0:00:01\r\u001b[K     |█████████████████▊              | 1.1MB 2.7MB/s eta 0:00:01\r\u001b[K     |█████████████████▉              | 1.1MB 2.7MB/s eta 0:00:01\r\u001b[K     |██████████████████              | 1.1MB 2.7MB/s eta 0:00:01\r\u001b[K     |██████████████████▏             | 1.1MB 2.7MB/s eta 0:00:01\r\u001b[K     |██████████████████▍             | 1.1MB 2.7MB/s eta 0:00:01\r\u001b[K     |██████████████████▌             | 1.1MB 2.7MB/s eta 0:00:01\r\u001b[K     |██████████████████▊             | 1.1MB 2.7MB/s eta 0:00:01\r\u001b[K     |██████████████████▉             | 1.1MB 2.7MB/s eta 0:00:01\r\u001b[K     |███████████████████             | 1.1MB 2.7MB/s eta 0:00:01\r\u001b[K     |███████████████████▎            | 1.1MB 2.7MB/s eta 0:00:01\r\u001b[K     |███████████████████▍            | 1.2MB 2.7MB/s eta 0:00:01\r\u001b[K     |███████████████████▋            | 1.2MB 2.7MB/s eta 0:00:01\r\u001b[K     |███████████████████▊            | 1.2MB 2.7MB/s eta 0:00:01\r\u001b[K     |████████████████████            | 1.2MB 2.7MB/s eta 0:00:01\r\u001b[K     |████████████████████            | 1.2MB 2.7MB/s eta 0:00:01\r\u001b[K     |████████████████████▎           | 1.2MB 2.7MB/s eta 0:00:01\r\u001b[K     |████████████████████▍           | 1.2MB 2.7MB/s eta 0:00:01\r\u001b[K     |████████████████████▋           | 1.2MB 2.7MB/s eta 0:00:01\r\u001b[K     |████████████████████▊           | 1.2MB 2.7MB/s eta 0:00:01\r\u001b[K     |█████████████████████           | 1.2MB 2.7MB/s eta 0:00:01\r\u001b[K     |█████████████████████▏          | 1.3MB 2.7MB/s eta 0:00:01\r\u001b[K     |█████████████████████▎          | 1.3MB 2.7MB/s eta 0:00:01\r\u001b[K     |█████████████████████▌          | 1.3MB 2.7MB/s eta 0:00:01\r\u001b[K     |█████████████████████▋          | 1.3MB 2.7MB/s eta 0:00:01\r\u001b[K     |█████████████████████▉          | 1.3MB 2.7MB/s eta 0:00:01\r\u001b[K     |██████████████████████          | 1.3MB 2.7MB/s eta 0:00:01\r\u001b[K     |██████████████████████▏         | 1.3MB 2.7MB/s eta 0:00:01\r\u001b[K     |██████████████████████▎         | 1.3MB 2.7MB/s eta 0:00:01\r\u001b[K     |██████████████████████▌         | 1.3MB 2.7MB/s eta 0:00:01\r\u001b[K     |██████████████████████▋         | 1.4MB 2.7MB/s eta 0:00:01\r\u001b[K     |██████████████████████▉         | 1.4MB 2.7MB/s eta 0:00:01\r\u001b[K     |███████████████████████         | 1.4MB 2.7MB/s eta 0:00:01\r\u001b[K     |███████████████████████▏        | 1.4MB 2.7MB/s eta 0:00:01\r\u001b[K     |███████████████████████▍        | 1.4MB 2.7MB/s eta 0:00:01\r\u001b[K     |███████████████████████▌        | 1.4MB 2.7MB/s eta 0:00:01\r\u001b[K     |███████████████████████▊        | 1.4MB 2.7MB/s eta 0:00:01\r\u001b[K     |███████████████████████▉        | 1.4MB 2.7MB/s eta 0:00:01\r\u001b[K     |████████████████████████        | 1.4MB 2.7MB/s eta 0:00:01\r\u001b[K     |████████████████████████▏       | 1.4MB 2.7MB/s eta 0:00:01\r\u001b[K     |████████████████████████▍       | 1.5MB 2.7MB/s eta 0:00:01\r\u001b[K     |████████████████████████▌       | 1.5MB 2.7MB/s eta 0:00:01\r\u001b[K     |████████████████████████▊       | 1.5MB 2.7MB/s eta 0:00:01\r\u001b[K     |█████████████████████████       | 1.5MB 2.7MB/s eta 0:00:01\r\u001b[K     |█████████████████████████       | 1.5MB 2.7MB/s eta 0:00:01\r\u001b[K     |█████████████████████████▎      | 1.5MB 2.7MB/s eta 0:00:01\r\u001b[K     |█████████████████████████▍      | 1.5MB 2.7MB/s eta 0:00:01\r\u001b[K     |█████████████████████████▋      | 1.5MB 2.7MB/s eta 0:00:01\r\u001b[K     |█████████████████████████▊      | 1.5MB 2.7MB/s eta 0:00:01\r\u001b[K     |██████████████████████████      | 1.5MB 2.7MB/s eta 0:00:01\r\u001b[K     |██████████████████████████      | 1.6MB 2.7MB/s eta 0:00:01\r\u001b[K     |██████████████████████████▎     | 1.6MB 2.7MB/s eta 0:00:01\r\u001b[K     |██████████████████████████▍     | 1.6MB 2.7MB/s eta 0:00:01\r\u001b[K     |██████████████████████████▋     | 1.6MB 2.7MB/s eta 0:00:01\r\u001b[K     |██████████████████████████▉     | 1.6MB 2.7MB/s eta 0:00:01\r\u001b[K     |███████████████████████████     | 1.6MB 2.7MB/s eta 0:00:01\r\u001b[K     |███████████████████████████▏    | 1.6MB 2.7MB/s eta 0:00:01\r\u001b[K     |███████████████████████████▎    | 1.6MB 2.7MB/s eta 0:00:01\r\u001b[K     |███████████████████████████▌    | 1.6MB 2.7MB/s eta 0:00:01\r\u001b[K     |███████████████████████████▋    | 1.6MB 2.7MB/s eta 0:00:01\r\u001b[K     |███████████████████████████▉    | 1.7MB 2.7MB/s eta 0:00:01\r\u001b[K     |████████████████████████████    | 1.7MB 2.7MB/s eta 0:00:01\r\u001b[K     |████████████████████████████▏   | 1.7MB 2.7MB/s eta 0:00:01\r\u001b[K     |████████████████████████████▎   | 1.7MB 2.7MB/s eta 0:00:01\r\u001b[K     |████████████████████████████▌   | 1.7MB 2.7MB/s eta 0:00:01\r\u001b[K     |████████████████████████████▊   | 1.7MB 2.7MB/s eta 0:00:01\r\u001b[K     |████████████████████████████▉   | 1.7MB 2.7MB/s eta 0:00:01\r\u001b[K     |█████████████████████████████   | 1.7MB 2.7MB/s eta 0:00:01\r\u001b[K     |█████████████████████████████▏  | 1.7MB 2.7MB/s eta 0:00:01\r\u001b[K     |█████████████████████████████▍  | 1.8MB 2.7MB/s eta 0:00:01\r\u001b[K     |█████████████████████████████▌  | 1.8MB 2.7MB/s eta 0:00:01\r\u001b[K     |█████████████████████████████▊  | 1.8MB 2.7MB/s eta 0:00:01\r\u001b[K     |█████████████████████████████▉  | 1.8MB 2.7MB/s eta 0:00:01\r\u001b[K     |██████████████████████████████  | 1.8MB 2.7MB/s eta 0:00:01\r\u001b[K     |██████████████████████████████▏ | 1.8MB 2.7MB/s eta 0:00:01\r\u001b[K     |██████████████████████████████▍ | 1.8MB 2.7MB/s eta 0:00:01\r\u001b[K     |██████████████████████████████▋ | 1.8MB 2.7MB/s eta 0:00:01\r\u001b[K     |██████████████████████████████▊ | 1.8MB 2.7MB/s eta 0:00:01\r\u001b[K     |███████████████████████████████ | 1.8MB 2.7MB/s eta 0:00:01\r\u001b[K     |███████████████████████████████ | 1.9MB 2.7MB/s eta 0:00:01\r\u001b[K     |███████████████████████████████▎| 1.9MB 25kB/s eta 0:00:02\r\u001b[K     |███████████████████████████████▍| 1.9MB 25kB/s eta 0:00:02\r\u001b[K     |███████████████████████████████▋| 1.9MB 25kB/s eta 0:00:01\r\u001b[K     |███████████████████████████████▊| 1.9MB 25kB/s eta 0:00:01\r\u001b[K     |████████████████████████████████| 1.9MB 25kB/s eta 0:00:01\r\u001b[K     |████████████████████████████████| 1.9MB 25kB/s \n",
            "\u001b[?25hInstalling collected packages: pyspellchecker\n",
            "Successfully installed pyspellchecker-0.5.4\n"
          ],
          "name": "stdout"
        }
      ]
    },
    {
      "cell_type": "code",
      "metadata": {
        "id": "9DlB6Rcbosn3",
        "colab_type": "code",
        "colab": {}
      },
      "source": [
        "with open('sample.txt', 'r') as file:\n",
        "    data = file.read().replace('\\n', '')"
      ],
      "execution_count": 0,
      "outputs": []
    },
    {
      "cell_type": "code",
      "metadata": {
        "id": "SoHXxVCwr22c",
        "colab_type": "code",
        "outputId": "f6166877-5a29-4a98-89cb-094e31ac1d3c",
        "colab": {
          "base_uri": "https://localhost:8080/",
          "height": 54
        }
      },
      "source": [
        "data=data.lower()\n",
        "print(data)"
      ],
      "execution_count": 0,
      "outputs": [
        {
          "output_type": "stream",
          "text": [
            "vidhi mehta mumbia, mahharashtra  mrabb@email.com summary  detail-oriented business anaslyt with 3 years of experience doing meticulous and intensive work across multiple industries. education  mambia university aug '10 - may '14 bachelor of scince in finance experience  dreamsoft it solutilns, business analyst feb '15 - current • negotiate and liaise between business teams, technology teams, and support teams • deliver cost effective, high performance technolgy solutions • worked with users and stakeolders to analyze and validate requirements • manage project through status meetings, weekly reports, identifying risks, and tracking issues • designed, developed, and deployed business intlligence applications mphsis ltd, business analyst current - current • served customers and businesses by running and viewing reports • designed analyical solutions • execute and validate test cases • responsible for specifictions, implementations, and analytics • prepared business models, flowcharts, and diagrms skills  • requirement gathering • finncial statement analsis • finncial modeling, planning, and forecasting • requiement management tools including rational requisitepro and caliber rm • business modeling tools including ms visio and rational rose   \n"
          ],
          "name": "stdout"
        }
      ]
    },
    {
      "cell_type": "code",
      "metadata": {
        "id": "5fWLqzf1t_Qf",
        "colab_type": "code",
        "outputId": "891169af-df8d-48d5-f4ad-c46f664f60f0",
        "colab": {
          "base_uri": "https://localhost:8080/",
          "height": 1000
        }
      },
      "source": [
        "import re\n",
        "textt = data.split()\n",
        "newOne = []\n",
        "for word in textt:\n",
        "  word = re.sub(r'[^\\w\\s]','',word)\n",
        "  print(word)\n",
        "  newOne.append(word)\n",
        "\n",
        "s = \"string. With. Punctuation?\"\n",
        "s = re.sub(r'[^\\w\\s]','',s)\n",
        "print(s)"
      ],
      "execution_count": 0,
      "outputs": [
        {
          "output_type": "stream",
          "text": [
            "vidhi\n",
            "mehta\n",
            "mumbia\n",
            "mahharashtra\n",
            "mrabbemailcom\n",
            "summary\n",
            "detailoriented\n",
            "business\n",
            "anaslyt\n",
            "with\n",
            "3\n",
            "years\n",
            "of\n",
            "experience\n",
            "doing\n",
            "meticulous\n",
            "and\n",
            "intensive\n",
            "work\n",
            "across\n",
            "multiple\n",
            "industries\n",
            "education\n",
            "mambia\n",
            "university\n",
            "aug\n",
            "10\n",
            "\n",
            "may\n",
            "14\n",
            "bachelor\n",
            "of\n",
            "scince\n",
            "in\n",
            "finance\n",
            "experience\n",
            "dreamsoft\n",
            "it\n",
            "solutilns\n",
            "business\n",
            "analyst\n",
            "feb\n",
            "15\n",
            "\n",
            "current\n",
            "\n",
            "negotiate\n",
            "and\n",
            "liaise\n",
            "between\n",
            "business\n",
            "teams\n",
            "technology\n",
            "teams\n",
            "and\n",
            "support\n",
            "teams\n",
            "\n",
            "deliver\n",
            "cost\n",
            "effective\n",
            "high\n",
            "performance\n",
            "technolgy\n",
            "solutions\n",
            "\n",
            "worked\n",
            "with\n",
            "users\n",
            "and\n",
            "stakeolders\n",
            "to\n",
            "analyze\n",
            "and\n",
            "validate\n",
            "requirements\n",
            "\n",
            "manage\n",
            "project\n",
            "through\n",
            "status\n",
            "meetings\n",
            "weekly\n",
            "reports\n",
            "identifying\n",
            "risks\n",
            "and\n",
            "tracking\n",
            "issues\n",
            "\n",
            "designed\n",
            "developed\n",
            "and\n",
            "deployed\n",
            "business\n",
            "intlligence\n",
            "applications\n",
            "mphsis\n",
            "ltd\n",
            "business\n",
            "analyst\n",
            "current\n",
            "\n",
            "current\n",
            "\n",
            "served\n",
            "customers\n",
            "and\n",
            "businesses\n",
            "by\n",
            "running\n",
            "and\n",
            "viewing\n",
            "reports\n",
            "\n",
            "designed\n",
            "analyical\n",
            "solutions\n",
            "\n",
            "execute\n",
            "and\n",
            "validate\n",
            "test\n",
            "cases\n",
            "\n",
            "responsible\n",
            "for\n",
            "specifictions\n",
            "implementations\n",
            "and\n",
            "analytics\n",
            "\n",
            "prepared\n",
            "business\n",
            "models\n",
            "flowcharts\n",
            "and\n",
            "diagrms\n",
            "skills\n",
            "\n",
            "requirement\n",
            "gathering\n",
            "\n",
            "finncial\n",
            "statement\n",
            "analsis\n",
            "\n",
            "finncial\n",
            "modeling\n",
            "planning\n",
            "and\n",
            "forecasting\n",
            "\n",
            "requiement\n",
            "management\n",
            "tools\n",
            "including\n",
            "rational\n",
            "requisitepro\n",
            "and\n",
            "caliber\n",
            "rm\n",
            "\n",
            "business\n",
            "modeling\n",
            "tools\n",
            "including\n",
            "ms\n",
            "visio\n",
            "and\n",
            "rational\n",
            "rose\n",
            "string With Punctuation\n"
          ],
          "name": "stdout"
        }
      ]
    },
    {
      "cell_type": "code",
      "metadata": {
        "id": "jgkyebZu04qe",
        "colab_type": "code",
        "outputId": "2dd0a861-4676-48b4-bb15-457c8ffb84fe",
        "colab": {
          "base_uri": "https://localhost:8080/",
          "height": 71
        }
      },
      "source": [
        "print(newOne)\n",
        "print(type(newOne))"
      ],
      "execution_count": 0,
      "outputs": [
        {
          "output_type": "stream",
          "text": [
            "['vidhi', 'mehta', 'mumbia', 'mahharashtra', 'mrabbemailcom', 'summary', 'detailoriented', 'business', 'anaslyt', 'with', '3', 'years', 'of', 'experience', 'doing', 'meticulous', 'and', 'intensive', 'work', 'across', 'multiple', 'industries', 'education', 'mambia', 'university', 'aug', '10', '', 'may', '14', 'bachelor', 'of', 'scince', 'in', 'finance', 'experience', 'dreamsoft', 'it', 'solutilns', 'business', 'analyst', 'feb', '15', '', 'current', '', 'negotiate', 'and', 'liaise', 'between', 'business', 'teams', 'technology', 'teams', 'and', 'support', 'teams', '', 'deliver', 'cost', 'effective', 'high', 'performance', 'technolgy', 'solutions', '', 'worked', 'with', 'users', 'and', 'stakeolders', 'to', 'analyze', 'and', 'validate', 'requirements', '', 'manage', 'project', 'through', 'status', 'meetings', 'weekly', 'reports', 'identifying', 'risks', 'and', 'tracking', 'issues', '', 'designed', 'developed', 'and', 'deployed', 'business', 'intlligence', 'applications', 'mphsis', 'ltd', 'business', 'analyst', 'current', '', 'current', '', 'served', 'customers', 'and', 'businesses', 'by', 'running', 'and', 'viewing', 'reports', '', 'designed', 'analyical', 'solutions', '', 'execute', 'and', 'validate', 'test', 'cases', '', 'responsible', 'for', 'specifictions', 'implementations', 'and', 'analytics', '', 'prepared', 'business', 'models', 'flowcharts', 'and', 'diagrms', 'skills', '', 'requirement', 'gathering', '', 'finncial', 'statement', 'analsis', '', 'finncial', 'modeling', 'planning', 'and', 'forecasting', '', 'requiement', 'management', 'tools', 'including', 'rational', 'requisitepro', 'and', 'caliber', 'rm', '', 'business', 'modeling', 'tools', 'including', 'ms', 'visio', 'and', 'rational', 'rose']\n",
            "<class 'list'>\n"
          ],
          "name": "stdout"
        }
      ]
    },
    {
      "cell_type": "code",
      "metadata": {
        "id": "T6b2dhKGKiQI",
        "colab_type": "code",
        "colab": {}
      },
      "source": [
        "with open('citiesstates.txt', 'r') as file:\n",
        "    i_n_data = file.read().replace('\\n', ' ')"
      ],
      "execution_count": 0,
      "outputs": []
    },
    {
      "cell_type": "code",
      "metadata": {
        "id": "znp0MlrecUkL",
        "colab_type": "code",
        "colab": {}
      },
      "source": [
        "print(i_n_data)"
      ],
      "execution_count": 0,
      "outputs": []
    },
    {
      "cell_type": "code",
      "metadata": {
        "id": "ZJvy9Xt9KuJD",
        "colab_type": "code",
        "colab": {}
      },
      "source": [
        "i_n_data=i_n_data.lower()\n",
        "i_n_data = i_n_data.split()"
      ],
      "execution_count": 0,
      "outputs": []
    },
    {
      "cell_type": "code",
      "metadata": {
        "id": "dS3GuCr6MQY5",
        "colab_type": "code",
        "colab": {}
      },
      "source": [
        "\n",
        "# Python program to convert a list \n",
        "# to string using join() function \n",
        "    \n",
        "# Function to convert   \n",
        "def listToString(s):  \n",
        "    \n",
        "    # initialize an empty string \n",
        "    str1 = \",\" \n",
        "    \n",
        "    # return string   \n",
        "    return (str1.join(s)) \n",
        "        \n",
        "        \n",
        "# Driver code     \n",
        "i_n_data_str = listToString(i_n_data)   "
      ],
      "execution_count": 0,
      "outputs": []
    },
    {
      "cell_type": "code",
      "metadata": {
        "id": "Vr98GvaPMZzr",
        "colab_type": "code",
        "colab": {}
      },
      "source": [
        "text_file = open(\"c_t_data.txt\", \"w\")\n",
        "text_file.write(i_n_data_str)"
      ],
      "execution_count": 0,
      "outputs": []
    },
    {
      "cell_type": "code",
      "metadata": {
        "id": "5OvUuzqxr7yM",
        "colab_type": "code",
        "colab": {}
      },
      "source": [
        "from spellchecker import SpellChecker"
      ],
      "execution_count": 0,
      "outputs": []
    },
    {
      "cell_type": "code",
      "metadata": {
        "id": "CyLyqkyZtaDa",
        "colab_type": "code",
        "colab": {}
      },
      "source": [
        "spell = SpellChecker() \n",
        "spell.word_frequency.load_text_file('Indian_Names.txt')"
      ],
      "execution_count": 0,
      "outputs": []
    },
    {
      "cell_type": "code",
      "metadata": {
        "id": "xHfvpGT5td4A",
        "colab_type": "code",
        "colab": {}
      },
      "source": [
        "for word in textt:\n",
        "    # Get the one `most likely` answer\n",
        "    print(spell.correction(word))\n",
        "    print(spell.candidates(word)) "
      ],
      "execution_count": 0,
      "outputs": []
    },
    {
      "cell_type": "markdown",
      "metadata": {
        "id": "JpxBBQEEHlwL",
        "colab_type": "text"
      },
      "source": [
        "textBlob"
      ]
    },
    {
      "cell_type": "code",
      "metadata": {
        "id": "IKMXz9RmHnLB",
        "colab_type": "code",
        "colab": {}
      },
      "source": [
        "!pip install -U textblob\n",
        "!python -m textblob.download_corpora"
      ],
      "execution_count": 0,
      "outputs": []
    },
    {
      "cell_type": "code",
      "metadata": {
        "id": "psR0zX2CHyju",
        "colab_type": "code",
        "colab": {}
      },
      "source": [
        "nouns = []\n",
        "from textblob import TextBlob\n",
        "blob = TextBlob(data)\n",
        "for np in blob.noun_phrases:\n",
        " print (np)\n",
        " nouns.append(np)\n"
      ],
      "execution_count": 0,
      "outputs": []
    },
    {
      "cell_type": "code",
      "metadata": {
        "id": "mm7uLg2xbyzm",
        "colab_type": "code",
        "colab": {}
      },
      "source": [
        "\n",
        "# Python program to convert a list \n",
        "# to string using join() function \n",
        "    \n",
        "# Function to convert   \n",
        "def listToString(s):  \n",
        "    \n",
        "    # initialize an empty string \n",
        "    str1 = \" \" \n",
        "    \n",
        "    # return string   \n",
        "    return (str1.join(s)) \n",
        "        \n",
        "        \n",
        "# Driver code     \n",
        "nouns_str = listToString(nouns)   "
      ],
      "execution_count": 0,
      "outputs": []
    },
    {
      "cell_type": "markdown",
      "metadata": {
        "id": "v2ExRel1bZ7k",
        "colab_type": "text"
      },
      "source": [
        "Adding nouns to a txt"
      ]
    },
    {
      "cell_type": "code",
      "metadata": {
        "id": "FSxFiEyqbcVJ",
        "colab_type": "code",
        "colab": {}
      },
      "source": [
        "text_file = open(\"resumeNouns.txt\", \"w\")"
      ],
      "execution_count": 0,
      "outputs": []
    },
    {
      "cell_type": "code",
      "metadata": {
        "id": "kAN5LlRRbfAs",
        "colab_type": "code",
        "colab": {}
      },
      "source": [
        "for page in doc:\n",
        "  n = text_file.write(nouns_str)\n",
        "text_file.close()"
      ],
      "execution_count": 0,
      "outputs": []
    },
    {
      "cell_type": "markdown",
      "metadata": {
        "id": "rjYRLE8jYFvH",
        "colab_type": "text"
      },
      "source": [
        "Custom Company names - hunspell use"
      ]
    },
    {
      "cell_type": "code",
      "metadata": {
        "id": "UvaYcjscnNYn",
        "colab_type": "code",
        "outputId": "1e66bd7e-3540-4372-f423-32dcc4d6de9a",
        "colab": {
          "base_uri": "https://localhost:8080/",
          "height": 105
        }
      },
      "source": [
        "!pip install fuzzywuzzy"
      ],
      "execution_count": 0,
      "outputs": [
        {
          "output_type": "stream",
          "text": [
            "Collecting fuzzywuzzy\n",
            "  Downloading https://files.pythonhosted.org/packages/43/ff/74f23998ad2f93b945c0309f825be92e04e0348e062026998b5eefef4c33/fuzzywuzzy-0.18.0-py2.py3-none-any.whl\n",
            "Installing collected packages: fuzzywuzzy\n",
            "Successfully installed fuzzywuzzy-0.18.0\n"
          ],
          "name": "stdout"
        }
      ]
    },
    {
      "cell_type": "code",
      "metadata": {
        "id": "w-Eu6MClj3KA",
        "colab_type": "code",
        "colab": {}
      },
      "source": [
        "# import the fuzzywuzzy module\n",
        "from fuzzywuzzy import fuzz\n",
        "\n",
        "# spellcheck main class\n",
        "class SpellCheck:\n",
        "\n",
        "    # initialization method\n",
        "    def __init__(self, word_dict_file=None):\n",
        "        # open the dictionary file\n",
        "        self.file = open(word_dict_file, 'r')\n",
        "        \n",
        "        # load the file data in a variable\n",
        "        data = self.file.read()\n",
        "        \n",
        "        # store all the words in a list\n",
        "        data = data.split(\",\")\n",
        "        \n",
        "        # change all the words to lowercase\n",
        "        data = [i.lower() for i in data]\n",
        "        \n",
        "        # remove all the duplicates in the list\n",
        "        data = set(data)\n",
        "        \n",
        "        # store all the words into a class variable dictionary\n",
        "        self.dictionary = list(data)\n",
        "\n",
        "    # string setter method\n",
        "    def check(self, string_to_check):\n",
        "        # store the string to be checked in a class variable\n",
        "        self.string_to_check = string_to_check\n",
        "\n",
        "    # this method returns the possible suggestions of the correct words\n",
        "    def suggestions(self):\n",
        "        # store the words of the string to be checked in a list by using a split function\n",
        "        string_words = self.string_to_check.split()\n",
        "\n",
        "        # a list to store all the possible suggestions\n",
        "        suggestions = []\n",
        "\n",
        "        # loop over the number of words in the string to be checked\n",
        "        for i in range(len(string_words)):\n",
        "            \n",
        "            # loop over words in the dictionary\n",
        "            for name in self.dictionary:\n",
        "                \n",
        "                # if the fuzzywuzzy returns the matched value greater than 87\n",
        "                if fuzz.ratio(string_words[i].lower(), name.lower()) >= 82:\n",
        "                    \n",
        "                    # append the dict word to the suggestion list\n",
        "                    suggestions.append(name)\n",
        "\n",
        "        # return the suggestions list\n",
        "        return suggestions\n",
        "\n",
        "    # this method returns the corrected string of the given input\n",
        "    def correct(self):\n",
        "        # store the words of the string to be checked in a list by using a split function\n",
        "        string_words = self.string_to_check.split()\n",
        "\n",
        "        # loop over the number of words in the string to be checked\n",
        "        for i in range(len(string_words)):\n",
        "            \n",
        "            # initiaze a maximum probability variable to 0\n",
        "            max_percent = 0\n",
        "\n",
        "            # loop over the words in the dictionary\n",
        "            for name in self.dictionary:\n",
        "                \n",
        "                # calulcate the match probability\n",
        "                percent = fuzz.ratio(string_words[i].lower(), name.lower())\n",
        "                \n",
        "                # if the fuzzywuzzy returns the matched value greater than 90\n",
        "                if percent >= 90:\n",
        "                    \n",
        "                    # if the matched probability is\n",
        "                    if percent > max_percent:\n",
        "                        \n",
        "                        # change the original value with the corrected matched value\n",
        "                        string_words[i] = name\n",
        "                    \n",
        "                    # change the max percent to the current matched percent\n",
        "                    max_percent = percent\n",
        "        \n",
        "        # return the cprrected string\n",
        "        return \" \".join(string_words)        "
      ],
      "execution_count": 0,
      "outputs": []
    },
    {
      "cell_type": "code",
      "metadata": {
        "id": "ycMvnMamnTWr",
        "colab_type": "code",
        "outputId": "cd7078c6-6ccd-42cc-afdb-1353d8d5d9e7",
        "colab": {
          "base_uri": "https://localhost:8080/",
          "height": 755
        }
      },
      "source": [
        "# create an object\n",
        "file = open(\"combtotal.txt\")\n",
        "strings = file.read()\n",
        "\n",
        "spell_check = SpellCheck('combtotal.txt')\n",
        "\n",
        "for word in newOne:\n",
        "  if(word in strings):\n",
        "    # print(\"word found - \",word)\n",
        "    continue\n",
        "  else:\n",
        "    print(\"wrong word - \",word)\n",
        "    spell_check.check(word)\n",
        "    print(spell_check.suggestions())"
      ],
      "execution_count": 0,
      "outputs": [
        {
          "output_type": "stream",
          "text": [
            "wrong word -  mumbia\n",
            "['mubina', 'mummia', 'mumbai']\n",
            "wrong word -  mahharashtra\n",
            "['(maharashtra)', 'maharashtra', 'maharashtri']\n",
            "wrong word -  mrabbemailcom\n",
            "[]\n",
            "wrong word -  detailoriented\n",
            "['disoriented']\n",
            "wrong word -  anaslyt\n",
            "['analyst', 'analytic', 'analysts', 'analyt']\n",
            "wrong word -  mambia\n",
            "['mamita', 'maia', 'mabi', 'ambika', 'mamba', 'gambia', 'ambica', 'amba', 'mambas', 'mama', 'maba', 'zambia', 'cambia', 'miamia', 'amia']\n",
            "wrong word -  scince\n",
            "['scrine', 'sice', 'nescience', 'oscine', 'cine', 'sine', 'inscience', 'sciences', 'scienced', 'sconce', 'scance', 'unscience', 'since', 'science', 'oscitance', 'scincidae']\n",
            "wrong word -  dreamsoft\n",
            "['dreams', 'dreamt']\n",
            "wrong word -  solutilns\n",
            "['volutins', 'resolutions', 'solutionist', 'solutionis', 'e-solutions', 'absolutions', 'solution', 'solutions']\n",
            "wrong word -  technolgy\n",
            "['technology', 'technol', 'technologue', 'technicology', 'biotechnology', 'tecnology', 'mechanology', 'technologic', 'techno', 'tenology', 'echinology']\n",
            "wrong word -  stakeolders\n",
            "['stakeholder', 'takeovers']\n",
            "wrong word -  intlligence\n",
            "['intelligencer', 'misintelligence', 'intelligent', 'intelligency', 'intelligences', 'intelligence', 'indigence', 'intelligencing', 'nonintelligence', 'indiligence', 'intelligenced', 'preintelligence', 'diligence', 'unintelligence']\n",
            "wrong word -  mphsis\n",
            "['phasis', 'phis', 'nymphosis', 'psis', 'mphasis', 'emphasise', 'phosis', 'morphosis', 'emphlysis', 'physis', 'gomphosis', 'symphysis', 'emphasis']\n",
            "wrong word -  analyical\n",
            "['analogical', 'unanalytical', 'analeptical', 'analytical', 'paralytical', 'anaglyphical', 'catalytical', 'analytic', 'acalycal', 'anaglyptical', 'analytically', 'nonanalytical']\n",
            "wrong word -  specifictions\n",
            "['specification', 'speechification', 'spiflication', 'respecification', 'despecification', 'rectifications', 'pacification', 'sprucification', 'nonspecification', 'semifiction', 'specifications', 'respecifications', 'prespecification', 'deifications', 'splenification', 'specificities', 'specifics', 'specificating', 'specificness']\n",
            "wrong word -  diagrms\n",
            "['disarms', 'diagram', 'diagrams']\n",
            "wrong word -  finncial\n",
            "['financially', 'financial', 'finical', 'unfinancial', 'finials', 'financials', 'incisal', 'finial', 'nonfinancial', 'financialist', 'prefinancial']\n",
            "wrong word -  analsis\n",
            "['analgesis', 'annalism', 'uranalysis', 'analysis', 'analgesist', 'reanalysis', 'analyses', 'anabasis', 'anastalsis', 'anaclasis', 'annalist', 'anali', 'anaclisis', 'analysts', 'anaplasis', 'analepsis', 'canalise', 'analgesics', 'canalis', 'anacusis']\n",
            "wrong word -  finncial\n",
            "['financially', 'financial', 'finical', 'unfinancial', 'finials', 'financials', 'incisal', 'finial', 'nonfinancial', 'financialist', 'prefinancial']\n",
            "wrong word -  requiement\n",
            "['retirement', 'preequipment', 'reducement', 'requeen', 'refinement', 'unrequitement', 'requitement', 'nonrequirement', 'requirement', 'resilement', 'requirements', 'revivement', 'prerequirement', 'revilement', 'repinement', 'requiem', 'equipment', 'recitement', 'equipments']\n",
            "wrong word -  requisitepro\n",
            "['requisite', 'requisitioner', 'requiter', 'requisites', 'requisitor']\n"
          ],
          "name": "stdout"
        }
      ]
    },
    {
      "cell_type": "code",
      "metadata": {
        "id": "O7GC2ukCXXvf",
        "colab_type": "code",
        "outputId": "b86c282a-4eef-4c01-bac7-e4eeb8369a73",
        "colab": {
          "base_uri": "https://localhost:8080/",
          "height": 34
        }
      },
      "source": [
        "file = open(\"combtotal.txt\")\n",
        "strings = file.read()\n",
        "search_word = \"mumbia\"\n",
        "if(search_word in strings):\n",
        "    print(\"word found\")\n",
        "else:\n",
        "    print(\"word not found\")"
      ],
      "execution_count": 0,
      "outputs": [
        {
          "output_type": "stream",
          "text": [
            "word not found\n"
          ],
          "name": "stdout"
        }
      ]
    },
    {
      "cell_type": "markdown",
      "metadata": {
        "id": "9nflJ1-EUW6J",
        "colab_type": "text"
      },
      "source": [
        "# create an object\n",
        "spell_check = SpellCheck('combtotal.txt')\n",
        "\n",
        "# set the string\n",
        "string_to_be_checked = \"vashali\"\n",
        "spell_check.check(string_to_be_checked)\n",
        "\n",
        "# print suggestions and correction\n",
        "print(spell_check.suggestions())\n",
        "print(spell_check.correct())\n",
        "\n",
        "for word in textt:\n",
        "  spell_check.check(word)\n",
        "  print(spell_check.suggestions())\n",
        "  print(spell_check.correct())\n"
      ]
    },
    {
      "cell_type": "code",
      "metadata": {
        "id": "rt8R0NSeAR0Y",
        "colab_type": "code",
        "colab": {}
      },
      "source": [
        "from fuzzywuzzy import fuzz\n",
        "from fuzzywuzzy import process"
      ],
      "execution_count": 0,
      "outputs": []
    },
    {
      "cell_type": "code",
      "metadata": {
        "id": "lJgqMoF-AhdB",
        "colab_type": "code",
        "outputId": "0e0a85ae-0108-4b56-df29-c50878f8a10a",
        "colab": {
          "base_uri": "https://localhost:8080/",
          "height": 34
        }
      },
      "source": [
        "fuzz.ratio(\"mumbia\", \"mumbai\")"
      ],
      "execution_count": 0,
      "outputs": [
        {
          "output_type": "execute_result",
          "data": {
            "text/plain": [
              "83"
            ]
          },
          "metadata": {
            "tags": []
          },
          "execution_count": 37
        }
      ]
    }
  ]
}